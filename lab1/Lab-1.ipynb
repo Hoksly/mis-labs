{
 "cells": [
  {
   "cell_type": "markdown",
   "id": "05ffe432-870e-470e-af61-8ca6b22c52c0",
   "metadata": {},
   "source": [
    "# Лабораторна робота №1: Основи NumPy та Pandas"
   ]
  },
  {
   "cell_type": "markdown",
   "id": "6d83b7df-1017-499a-87cb-fb68365cff75",
   "metadata": {},
   "source": [
    "Перш за все необхідно імпортувати необхідні для виконання лабораторної роботи бібліотеки."
   ]
  },
  {
   "cell_type": "code",
   "execution_count": 9,
   "id": "3e2d7513-c9ff-4fee-91eb-a311ffa069d0",
   "metadata": {},
   "outputs": [],
   "source": [
    "import pandas as pd\n",
    "import numpy as np"
   ]
  },
  {
   "cell_type": "code",
   "execution_count": 21,
   "id": "2c1efbc5",
   "metadata": {},
   "outputs": [
    {
     "name": "stdout",
     "output_type": "stream",
     "text": [
      "Defaulting to user installation because normal site-packages is not writeable\n",
      "Collecting kagglehub\n",
      "  Downloading kagglehub-0.3.10-py3-none-any.whl (63 kB)\n",
      "\u001b[2K     \u001b[38;2;114;156;31m━━━━━━━━━━━━━━━━━━━━━━━━━━━━━━━━━━━━━━━━\u001b[0m \u001b[32m63.0/63.0 KB\u001b[0m \u001b[31m1.2 MB/s\u001b[0m eta \u001b[36m0:00:00\u001b[0m[31m1.2 MB/s\u001b[0m eta \u001b[36m0:00:01\u001b[0m\n",
      "\u001b[?25hRequirement already satisfied: pyyaml in /usr/lib/python3/dist-packages (from kagglehub) (5.4.1)\n",
      "Requirement already satisfied: packaging in /home/hoksly/.local/lib/python3.10/site-packages (from kagglehub) (23.1)\n",
      "Requirement already satisfied: requests in /usr/lib/python3/dist-packages (from kagglehub) (2.25.1)\n",
      "Collecting tqdm\n",
      "  Using cached tqdm-4.67.1-py3-none-any.whl (78 kB)\n",
      "Installing collected packages: tqdm, kagglehub\n",
      "Successfully installed kagglehub-0.3.10 tqdm-4.67.1\n"
     ]
    }
   ],
   "source": [
    "\n",
    "!python3 -m pip install kagglehub"
   ]
  },
  {
   "cell_type": "markdown",
   "id": "d70885fe-a81e-4949-ab20-7fc5515b5bd1",
   "metadata": {},
   "source": [
    "## 1. Підготовка датасету"
   ]
  },
  {
   "cell_type": "markdown",
   "id": "5517e1f3-0ada-4acd-bfc8-fd652cd7358b",
   "metadata": {},
   "source": [
    "### 1.1 Завантажте датасет\n",
    "\n",
    "* Перейдіть за посиланням на Kaggle та завантажте файл [Full IMDb Movies Data](https://www.kaggle.com/datasets/anandshaw2001/imdb-data).\n",
    "* Використовуючи бібліотеку `pandas` перетворіть дані з файлу у DataFrame."
   ]
  },
  {
   "cell_type": "code",
   "execution_count": 25,
   "id": "ff696d6e-e7d6-4783-846a-b1051135e363",
   "metadata": {},
   "outputs": [
    {
     "name": "stdout",
     "output_type": "stream",
     "text": [
      "/home/hoksly/.cache/kagglehub/datasets/anandshaw2001/imdb-data/versions/1\n"
     ]
    }
   ],
   "source": [
    "import kagglehub\n",
    "\n",
    "# Download latest version\n",
    "path = kagglehub.dataset_download(\"anandshaw2001/imdb-data\")\n",
    "print(path)\n",
    "df = pd.read_csv(path + '/Imdb Movie Dataset.csv')"
   ]
  },
  {
   "cell_type": "code",
   "execution_count": 29,
   "id": "b88ef346",
   "metadata": {},
   "outputs": [
    {
     "name": "stdout",
     "output_type": "stream",
     "text": [
      "(1048575, 21)\n"
     ]
    },
    {
     "data": {
      "text/html": [
       "<div>\n",
       "<style scoped>\n",
       "    .dataframe tbody tr th:only-of-type {\n",
       "        vertical-align: middle;\n",
       "    }\n",
       "\n",
       "    .dataframe tbody tr th {\n",
       "        vertical-align: top;\n",
       "    }\n",
       "\n",
       "    .dataframe thead th {\n",
       "        text-align: right;\n",
       "    }\n",
       "</style>\n",
       "<table border=\"1\" class=\"dataframe\">\n",
       "  <thead>\n",
       "    <tr style=\"text-align: right;\">\n",
       "      <th></th>\n",
       "      <th>id</th>\n",
       "      <th>title</th>\n",
       "      <th>vote_average</th>\n",
       "      <th>vote_count</th>\n",
       "      <th>status</th>\n",
       "      <th>release_date</th>\n",
       "      <th>revenue</th>\n",
       "      <th>runtime</th>\n",
       "      <th>adult</th>\n",
       "      <th>budget</th>\n",
       "      <th>...</th>\n",
       "      <th>original_language</th>\n",
       "      <th>original_title</th>\n",
       "      <th>overview</th>\n",
       "      <th>popularity</th>\n",
       "      <th>tagline</th>\n",
       "      <th>genres</th>\n",
       "      <th>production_companies</th>\n",
       "      <th>production_countries</th>\n",
       "      <th>spoken_languages</th>\n",
       "      <th>keywords</th>\n",
       "    </tr>\n",
       "  </thead>\n",
       "  <tbody>\n",
       "    <tr>\n",
       "      <th>119067</th>\n",
       "      <td>471047</td>\n",
       "      <td>Lillehammer ’94: 16 Days of Glory</td>\n",
       "      <td>5.6</td>\n",
       "      <td>5</td>\n",
       "      <td>Released</td>\n",
       "      <td>11/27/1994</td>\n",
       "      <td>0</td>\n",
       "      <td>209</td>\n",
       "      <td>False</td>\n",
       "      <td>0</td>\n",
       "      <td>...</td>\n",
       "      <td>en</td>\n",
       "      <td>Lillehammer ’94: 16 Days of Glory</td>\n",
       "      <td>A documentary covering the 1994 Olympic Games ...</td>\n",
       "      <td>0.698</td>\n",
       "      <td>NaN</td>\n",
       "      <td>Documentary</td>\n",
       "      <td>Cappy Productions</td>\n",
       "      <td>United States of America</td>\n",
       "      <td>English</td>\n",
       "      <td>sports, olympic games</td>\n",
       "    </tr>\n",
       "  </tbody>\n",
       "</table>\n",
       "<p>1 rows × 21 columns</p>\n",
       "</div>"
      ],
      "text/plain": [
       "            id                              title  vote_average  vote_count   \n",
       "119067  471047  Lillehammer ’94: 16 Days of Glory           5.6           5  \\\n",
       "\n",
       "          status release_date  revenue  runtime  adult  budget  ...   \n",
       "119067  Released   11/27/1994        0      209  False       0  ...  \\\n",
       "\n",
       "       original_language                     original_title   \n",
       "119067                en  Lillehammer ’94: 16 Days of Glory  \\\n",
       "\n",
       "                                                 overview popularity  tagline   \n",
       "119067  A documentary covering the 1994 Olympic Games ...      0.698      NaN  \\\n",
       "\n",
       "             genres production_companies      production_countries   \n",
       "119067  Documentary    Cappy Productions  United States of America  \\\n",
       "\n",
       "       spoken_languages               keywords  \n",
       "119067          English  sports, olympic games  \n",
       "\n",
       "[1 rows x 21 columns]"
      ]
     },
     "execution_count": 29,
     "metadata": {},
     "output_type": "execute_result"
    }
   ],
   "source": [
    "print(df.shape)\n",
    "df.sample(1)"
   ]
  },
  {
   "cell_type": "markdown",
   "id": "3d245063-ae9e-4d51-9ac6-a2887885e542",
   "metadata": {},
   "source": [
    "### 1.2 Відфільтруйте фільми для дітей\n",
    "\n",
    "* Залиште у DataFrame лише ті записи, де поле `adult` дорівнює `False`, тобто фільми, які не є \"дорослими\"."
   ]
  },
  {
   "cell_type": "code",
   "execution_count": 31,
   "id": "833ac69d-f106-45fb-b735-04b665adfede",
   "metadata": {},
   "outputs": [],
   "source": [
    " if 'adult' in df.columns:\n",
    "    df_filtered = df[df['adult'] == False].copy()\n",
    "else:\n",
    "    df_filtered = df"
   ]
  },
  {
   "cell_type": "markdown",
   "id": "776718c9-1f0e-48da-aeb9-ef311d04eb78",
   "metadata": {},
   "source": [
    "### 1.3 Залиште лише необхідні стовпчики\n",
    "\n",
    "* Відредагуйте DataFrame, залишивши у ньому лише наступні стовпчики:\n",
    "    - `id`\n",
    "    - `title`\n",
    "    - `vote_average`\n",
    "    - `vote_count`\n",
    "    - `release_date`\n",
    "    - `revenue`\n",
    "    - `runtime`\n",
    "    - `budget`\n",
    "    - `original_language`\n",
    "    - `production_companies`\n",
    "    - `production_countries`\n",
    "    - `spoken_languages`"
   ]
  },
  {
   "cell_type": "code",
   "execution_count": 36,
   "id": "494442d8-2a60-4025-a91c-c070a0c78d84",
   "metadata": {},
   "outputs": [
    {
     "name": "stdout",
     "output_type": "stream",
     "text": [
      "(951555, 12)\n",
      "id title vote_average vote_count release_date revenue runtime budget original_language production_companies production_countries spoken_languages\n"
     ]
    }
   ],
   "source": [
    "df_filtered = df_filtered[['id',\n",
    "    'title',\n",
    "    'vote_average',\n",
    "    'vote_count',\n",
    "    'release_date',\n",
    "    'revenue',\n",
    "    'runtime',\n",
    "    'budget',\n",
    "    'original_language',\n",
    "    'production_companies',\n",
    "    'production_countries',\n",
    "    'spoken_languages']] \n",
    "print(df_filtered.shape)\n",
    "print(*list(df_filtered.columns))\n"
   ]
  },
  {
   "cell_type": "markdown",
   "id": "51d1a3c4-44aa-4055-bb38-c3939981c04c",
   "metadata": {},
   "source": [
    "### 1.4 Видаліть записи без дати виробництва\n",
    "\n",
    "* Видаліть з DataFrame усі рядки, де поле `release_date` містить порожнє значення (є `NaN`)."
   ]
  },
  {
   "cell_type": "code",
   "execution_count": 37,
   "id": "151ad5db-ca62-4abf-bbe9-4481c8e8c87b",
   "metadata": {},
   "outputs": [
    {
     "name": "stdout",
     "output_type": "stream",
     "text": [
      "(780548, 12)\n"
     ]
    }
   ],
   "source": [
    "df_filtered.dropna(subset=['release_date'], inplace=True)\n",
    "print(df_filtered.shape)"
   ]
  },
  {
   "cell_type": "markdown",
   "id": "9d512989-bb43-4933-9af5-1c0ffecc21e6",
   "metadata": {},
   "source": [
    "### 1.5 Форматуйте стовпчик `release_date`\n",
    "\n",
    "* Перетворіть значення стовпчика `release_date` так, щоб залишився лише рік виробництва фільму, при цьому:\n",
    "    * Врахуйте, що формат дати у стовпчику може варіюватися, наприклад, бути у вигляді `mm/dd/YYYY` або `DD-MM-YYYY`.\n",
    "    * У результаті значення має бути представлене лише роком (наприклад, `2023`)."
   ]
  },
  {
   "cell_type": "code",
   "execution_count": 38,
   "id": "d456891a-3199-4c1a-9a04-8b78e104e92f",
   "metadata": {},
   "outputs": [
    {
     "name": "stdout",
     "output_type": "stream",
     "text": [
      "       id            title  vote_average  vote_count     revenue  runtime   \n",
      "0   27205        Inception         8.364       34495   825532764      148  \\\n",
      "1  157336     Interstellar         8.417       32571   701729206      169   \n",
      "2     155  The Dark Knight         8.512       30619  1004558444      152   \n",
      "3   19995           Avatar         7.573       29815  2923706026      162   \n",
      "4   24428     The Avengers         7.710       29166  1518815515      143   \n",
      "\n",
      "      budget original_language   \n",
      "0  160000000                en  \\\n",
      "1  165000000                en   \n",
      "2  185000000                en   \n",
      "3  237000000                en   \n",
      "4  220000000                en   \n",
      "\n",
      "                                production_companies   \n",
      "0  Legendary Pictures, Syncopy, Warner Bros. Pict...  \\\n",
      "1  Legendary Pictures, Syncopy, Lynda Obst Produc...   \n",
      "2  DC Comics, Legendary Pictures, Syncopy, Isobel...   \n",
      "3  Dune Entertainment, Lightstorm Entertainment, ...   \n",
      "4                                     Marvel Studios   \n",
      "\n",
      "                       production_countries   \n",
      "0  United Kingdom, United States of America  \\\n",
      "1  United Kingdom, United States of America   \n",
      "2  United Kingdom, United States of America   \n",
      "3  United States of America, United Kingdom   \n",
      "4                  United States of America   \n",
      "\n",
      "                     spoken_languages  release_year  \n",
      "0  English, French, Japanese, Swahili        2010.0  \n",
      "1                             English        2014.0  \n",
      "2                   English, Mandarin        2008.0  \n",
      "3                    English, Spanish        2009.0  \n",
      "4             English, Hindi, Russian        2012.0  \n"
     ]
    }
   ],
   "source": [
    "df_filtered['release_year'] = pd.to_datetime(df_filtered['release_date'], errors='coerce').dt.year\n",
    "df_filtered.drop('release_date', axis=1, inplace=True)\n",
    "print(df_filtered.head())"
   ]
  },
  {
   "cell_type": "markdown",
   "id": "50b44d64-bd91-4788-89f5-984e834d6c41",
   "metadata": {},
   "source": [
    "## 2. Дослідження датасету"
   ]
  },
  {
   "cell_type": "markdown",
   "id": "d2150bdc-caf4-45e2-b4c6-79982eefab82",
   "metadata": {},
   "source": [
    "### 2.1 Порахуйте скільки всього фільмів у DataFrame"
   ]
  },
  {
   "cell_type": "code",
   "execution_count": 39,
   "id": "540d4905-1690-42d8-8fa6-85801d654e8a",
   "metadata": {},
   "outputs": [
    {
     "name": "stdout",
     "output_type": "stream",
     "text": [
      "Загальна кількість фільмів у DataFrame: 780548\n",
      "Загальна кількість фільмів у DataFrame: 780548\n"
     ]
    }
   ],
   "source": [
    "total_films = len(df_filtered)\n",
    "print(f\"Загальна кількість фільмів у DataFrame: {total_films}\")\n",
    "\n",
    "# Або так:\n",
    "print(f\"Загальна кількість фільмів у DataFrame: {df_filtered.shape[0]}\")"
   ]
  },
  {
   "cell_type": "markdown",
   "id": "37193900-cbfd-4746-bc9d-4ce9c2b87f6a",
   "metadata": {},
   "source": [
    "### 2.2 Дослідження бюджету"
   ]
  },
  {
   "cell_type": "markdown",
   "id": "693527d0-8a79-4070-bee3-907309afc7c1",
   "metadata": {},
   "source": [
    "__(a) Відфільтруйте фільми, бюджет (`budget`) котрих більше $100 тис. та запишіть їх у нову змінну.__"
   ]
  },
  {
   "cell_type": "code",
   "execution_count": 43,
   "id": "3e95f9f3-68f8-4ca7-b35d-785d2b416031",
   "metadata": {},
   "outputs": [],
   "source": [
    "films_high_budget = df_filtered[df_filtered['budget'] > 100000].copy()"
   ]
  },
  {
   "cell_type": "markdown",
   "id": "addc61ef-7df9-42e9-8309-654144f4e5e3",
   "metadata": {},
   "source": [
    "__(b) Порахуйте кількість фільмів, бюджет котрих більше $100 тис. (використайте створену змінну).__"
   ]
  },
  {
   "cell_type": "code",
   "execution_count": 44,
   "id": "d73da762-19a7-468b-abb7-fa251389339f",
   "metadata": {},
   "outputs": [
    {
     "name": "stdout",
     "output_type": "stream",
     "text": [
      "Кількість фільмів з бюджетом більше $100 тис.: 18724\n"
     ]
    }
   ],
   "source": [
    "count_high_budget = len(films_high_budget)\n",
    "print(f\"Кількість фільмів з бюджетом більше $100 тис.: {count_high_budget}\")"
   ]
  },
  {
   "cell_type": "markdown",
   "id": "891b0575-4b51-42e1-bc76-9cee7341303c",
   "metadata": {},
   "source": [
    "__(c) Порахуйте середній бюджет фільмів, бюджет котрих більше $100 тис. (використайте створену змінну).__"
   ]
  },
  {
   "cell_type": "code",
   "execution_count": 45,
   "id": "2789cd1d-bfc9-4599-91b9-c0258425a206",
   "metadata": {},
   "outputs": [
    {
     "name": "stdout",
     "output_type": "stream",
     "text": [
      "Середній бюджет фільмів з бюджетом більше $100 тис.: $15320807.84\n"
     ]
    }
   ],
   "source": [
    "average_high_budget = films_high_budget['budget'].mean()\n",
    "print(f\"Середній бюджет фільмів з бюджетом більше $100 тис.: ${average_high_budget:.2f}\")"
   ]
  },
  {
   "cell_type": "markdown",
   "id": "08858c14-30e6-4cfc-9c69-98a4d8975297",
   "metadata": {},
   "source": [
    "__(d) Виведіть назви (поле `title`) десятьох фільмів з найбільшими бюджетами.__"
   ]
  },
  {
   "cell_type": "code",
   "execution_count": 46,
   "id": "f5f7ef9e-5d44-4436-9f28-559b187ef90d",
   "metadata": {},
   "outputs": [
    {
     "name": "stdout",
     "output_type": "stream",
     "text": [
      "Топ-10 фільмів з найбільшими бюджетами:\n",
      "Enea\n",
      "Adventures in Bora Bora\n",
      "Avatar 5\n",
      "Red Dead Redemption 2 (Movie)\n",
      "Avatar 4\n",
      "Avatar 3\n",
      "Avatar: The Way of Water\n",
      "Lost in the Stars\n",
      "Pirates of the Caribbean: On Stranger Tides\n",
      "Avengers: Age of Ultron\n"
     ]
    }
   ],
   "source": [
    "top_10_budget = df_filtered.sort_values(by='budget', ascending=False).head(10)\n",
    "print(\"Топ-10 фільмів з найбільшими бюджетами:\")\n",
    "for index, row in top_10_budget.iterrows():\n",
    "    print(row['title'])"
   ]
  },
  {
   "cell_type": "markdown",
   "id": "8a9b8967-3501-4bc6-a8a9-20d90d00f08d",
   "metadata": {},
   "source": [
    "### 2.3 Дослідження мов та країн"
   ]
  },
  {
   "cell_type": "markdown",
   "id": "264d57e9-c0df-4f8b-8a2c-8187b7e9d229",
   "metadata": {},
   "source": [
    "__(a) Відфільтруйте фільми, які мають українську мову оригіналу (поле `original_language` дорівнює `uk`) та запишіть їх у нову змінну.__"
   ]
  },
  {
   "cell_type": "code",
   "execution_count": 49,
   "id": "746f99ec-9a2e-42d2-b4bf-742668ceadda",
   "metadata": {},
   "outputs": [
    {
     "data": {
      "text/html": [
       "<div>\n",
       "<style scoped>\n",
       "    .dataframe tbody tr th:only-of-type {\n",
       "        vertical-align: middle;\n",
       "    }\n",
       "\n",
       "    .dataframe tbody tr th {\n",
       "        vertical-align: top;\n",
       "    }\n",
       "\n",
       "    .dataframe thead th {\n",
       "        text-align: right;\n",
       "    }\n",
       "</style>\n",
       "<table border=\"1\" class=\"dataframe\">\n",
       "  <thead>\n",
       "    <tr style=\"text-align: right;\">\n",
       "      <th></th>\n",
       "      <th>id</th>\n",
       "      <th>title</th>\n",
       "      <th>vote_average</th>\n",
       "      <th>vote_count</th>\n",
       "      <th>revenue</th>\n",
       "      <th>runtime</th>\n",
       "      <th>budget</th>\n",
       "      <th>original_language</th>\n",
       "      <th>production_companies</th>\n",
       "      <th>production_countries</th>\n",
       "      <th>spoken_languages</th>\n",
       "      <th>release_year</th>\n",
       "    </tr>\n",
       "  </thead>\n",
       "  <tbody>\n",
       "    <tr>\n",
       "      <th>960218</th>\n",
       "      <td>871763</td>\n",
       "      <td>The Responsible Hero</td>\n",
       "      <td>0.0</td>\n",
       "      <td>0</td>\n",
       "      <td>0</td>\n",
       "      <td>5</td>\n",
       "      <td>0</td>\n",
       "      <td>uk</td>\n",
       "      <td>NaN</td>\n",
       "      <td>Ukraine</td>\n",
       "      <td>No Language</td>\n",
       "      <td>2021.0</td>\n",
       "    </tr>\n",
       "    <tr>\n",
       "      <th>487159</th>\n",
       "      <td>1053092</td>\n",
       "      <td>Fire in the House of Trade Unions</td>\n",
       "      <td>0.0</td>\n",
       "      <td>0</td>\n",
       "      <td>0</td>\n",
       "      <td>21</td>\n",
       "      <td>0</td>\n",
       "      <td>uk</td>\n",
       "      <td>NaN</td>\n",
       "      <td>Ukraine</td>\n",
       "      <td>NaN</td>\n",
       "      <td>2014.0</td>\n",
       "    </tr>\n",
       "    <tr>\n",
       "      <th>386331</th>\n",
       "      <td>1137630</td>\n",
       "      <td>Occupation: the price of the word</td>\n",
       "      <td>0.0</td>\n",
       "      <td>0</td>\n",
       "      <td>0</td>\n",
       "      <td>47</td>\n",
       "      <td>0</td>\n",
       "      <td>uk</td>\n",
       "      <td>Slidstvo.Info</td>\n",
       "      <td>Ukraine</td>\n",
       "      <td>NaN</td>\n",
       "      <td>2023.0</td>\n",
       "    </tr>\n",
       "    <tr>\n",
       "      <th>114568</th>\n",
       "      <td>266756</td>\n",
       "      <td>Friday</td>\n",
       "      <td>7.1</td>\n",
       "      <td>5</td>\n",
       "      <td>0</td>\n",
       "      <td>8</td>\n",
       "      <td>0</td>\n",
       "      <td>uk</td>\n",
       "      <td>NaN</td>\n",
       "      <td>Ukraine</td>\n",
       "      <td>NaN</td>\n",
       "      <td>2010.0</td>\n",
       "    </tr>\n",
       "    <tr>\n",
       "      <th>773976</th>\n",
       "      <td>439536</td>\n",
       "      <td>Fire Bird</td>\n",
       "      <td>0.0</td>\n",
       "      <td>0</td>\n",
       "      <td>0</td>\n",
       "      <td>9</td>\n",
       "      <td>0</td>\n",
       "      <td>uk</td>\n",
       "      <td>Kyivnaukfilm</td>\n",
       "      <td>Soviet Union</td>\n",
       "      <td>Ukrainian</td>\n",
       "      <td>1983.0</td>\n",
       "    </tr>\n",
       "  </tbody>\n",
       "</table>\n",
       "</div>"
      ],
      "text/plain": [
       "             id                              title  vote_average  vote_count   \n",
       "960218   871763               The Responsible Hero           0.0           0  \\\n",
       "487159  1053092  Fire in the House of Trade Unions           0.0           0   \n",
       "386331  1137630  Occupation: the price of the word           0.0           0   \n",
       "114568   266756                             Friday           7.1           5   \n",
       "773976   439536                          Fire Bird           0.0           0   \n",
       "\n",
       "        revenue  runtime  budget original_language production_companies   \n",
       "960218        0        5       0                uk                  NaN  \\\n",
       "487159        0       21       0                uk                  NaN   \n",
       "386331        0       47       0                uk        Slidstvo.Info   \n",
       "114568        0        8       0                uk                  NaN   \n",
       "773976        0        9       0                uk         Kyivnaukfilm   \n",
       "\n",
       "       production_countries spoken_languages  release_year  \n",
       "960218              Ukraine      No Language        2021.0  \n",
       "487159              Ukraine              NaN        2014.0  \n",
       "386331              Ukraine              NaN        2023.0  \n",
       "114568              Ukraine              NaN        2010.0  \n",
       "773976         Soviet Union        Ukrainian        1983.0  "
      ]
     },
     "execution_count": 49,
     "metadata": {},
     "output_type": "execute_result"
    }
   ],
   "source": [
    "ukrainian_original_language = df_filtered[df_filtered['original_language'] == 'uk'].copy()\n",
    "ukrainian_original_language.sample(5)"
   ]
  },
  {
   "cell_type": "markdown",
   "id": "b3caa93a-8534-43b3-a671-f598401c607d",
   "metadata": {},
   "source": [
    "__(b) Порахуйте кількість фільмів, які мають українську мову оригіналу (використайте створену змінну).__"
   ]
  },
  {
   "cell_type": "code",
   "execution_count": 48,
   "id": "5c9c3d9a-b7a3-4fad-90a1-131c45a36cd7",
   "metadata": {},
   "outputs": [
    {
     "name": "stdout",
     "output_type": "stream",
     "text": [
      "Кількість фільмів з українською мовою оригіналу: 2038\n"
     ]
    }
   ],
   "source": [
    "count_ukrainian_original_language = len(ukrainian_original_language)\n",
    "print(f\"Кількість фільмів з українською мовою оригіналу: {count_ukrainian_original_language}\")"
   ]
  },
  {
   "cell_type": "markdown",
   "id": "b86387b5-68dc-4e0b-9822-763123ed8003",
   "metadata": {},
   "source": [
    "__(c) Відфільтруйте фільми, які були вироблені за участю України (поле `production_countries` містить рядок `Ukraine`) та запишіть їх у нову змінну.__"
   ]
  },
  {
   "cell_type": "code",
   "execution_count": 52,
   "id": "7d809f23-9a48-4cec-b327-e9d0d152210b",
   "metadata": {},
   "outputs": [
    {
     "data": {
      "text/html": [
       "<div>\n",
       "<style scoped>\n",
       "    .dataframe tbody tr th:only-of-type {\n",
       "        vertical-align: middle;\n",
       "    }\n",
       "\n",
       "    .dataframe tbody tr th {\n",
       "        vertical-align: top;\n",
       "    }\n",
       "\n",
       "    .dataframe thead th {\n",
       "        text-align: right;\n",
       "    }\n",
       "</style>\n",
       "<table border=\"1\" class=\"dataframe\">\n",
       "  <thead>\n",
       "    <tr style=\"text-align: right;\">\n",
       "      <th></th>\n",
       "      <th>id</th>\n",
       "      <th>title</th>\n",
       "      <th>vote_average</th>\n",
       "      <th>vote_count</th>\n",
       "      <th>revenue</th>\n",
       "      <th>runtime</th>\n",
       "      <th>budget</th>\n",
       "      <th>original_language</th>\n",
       "      <th>production_companies</th>\n",
       "      <th>production_countries</th>\n",
       "      <th>spoken_languages</th>\n",
       "      <th>release_year</th>\n",
       "    </tr>\n",
       "  </thead>\n",
       "  <tbody>\n",
       "    <tr>\n",
       "      <th>624486</th>\n",
       "      <td>1284968</td>\n",
       "      <td>Elevation</td>\n",
       "      <td>0.0</td>\n",
       "      <td>0</td>\n",
       "      <td>0</td>\n",
       "      <td>90</td>\n",
       "      <td>0</td>\n",
       "      <td>uk</td>\n",
       "      <td>NaN</td>\n",
       "      <td>France, Ukraine</td>\n",
       "      <td>Ukrainian</td>\n",
       "      <td>2024.0</td>\n",
       "    </tr>\n",
       "    <tr>\n",
       "      <th>1034042</th>\n",
       "      <td>878598</td>\n",
       "      <td>Butterfly Dance</td>\n",
       "      <td>0.0</td>\n",
       "      <td>0</td>\n",
       "      <td>0</td>\n",
       "      <td>17</td>\n",
       "      <td>0</td>\n",
       "      <td>uk</td>\n",
       "      <td>NaN</td>\n",
       "      <td>Ukraine</td>\n",
       "      <td>Ukrainian</td>\n",
       "      <td>2021.0</td>\n",
       "    </tr>\n",
       "    <tr>\n",
       "      <th>454187</th>\n",
       "      <td>999882</td>\n",
       "      <td>Wrapped in Plastic</td>\n",
       "      <td>0.0</td>\n",
       "      <td>0</td>\n",
       "      <td>0</td>\n",
       "      <td>5</td>\n",
       "      <td>0</td>\n",
       "      <td>en</td>\n",
       "      <td>NaN</td>\n",
       "      <td>Ukraine</td>\n",
       "      <td>English, Ukrainian</td>\n",
       "      <td>2020.0</td>\n",
       "    </tr>\n",
       "    <tr>\n",
       "      <th>591093</th>\n",
       "      <td>1289001</td>\n",
       "      <td>Boots on the Ground, Hands in the Soil</td>\n",
       "      <td>0.0</td>\n",
       "      <td>0</td>\n",
       "      <td>0</td>\n",
       "      <td>15</td>\n",
       "      <td>0</td>\n",
       "      <td>en</td>\n",
       "      <td>NaN</td>\n",
       "      <td>Netherlands, Ukraine, United Kingdom</td>\n",
       "      <td>Ukrainian</td>\n",
       "      <td>2023.0</td>\n",
       "    </tr>\n",
       "    <tr>\n",
       "      <th>945693</th>\n",
       "      <td>352576</td>\n",
       "      <td>Под прицелом любви</td>\n",
       "      <td>0.0</td>\n",
       "      <td>0</td>\n",
       "      <td>0</td>\n",
       "      <td>0</td>\n",
       "      <td>0</td>\n",
       "      <td>ru</td>\n",
       "      <td>Star Media</td>\n",
       "      <td>Russia, Ukraine</td>\n",
       "      <td>Russian</td>\n",
       "      <td>2013.0</td>\n",
       "    </tr>\n",
       "  </tbody>\n",
       "</table>\n",
       "</div>"
      ],
      "text/plain": [
       "              id                                   title  vote_average   \n",
       "624486   1284968                               Elevation           0.0  \\\n",
       "1034042   878598                         Butterfly Dance           0.0   \n",
       "454187    999882                      Wrapped in Plastic           0.0   \n",
       "591093   1289001  Boots on the Ground, Hands in the Soil           0.0   \n",
       "945693    352576                      Под прицелом любви           0.0   \n",
       "\n",
       "         vote_count  revenue  runtime  budget original_language   \n",
       "624486            0        0       90       0                uk  \\\n",
       "1034042           0        0       17       0                uk   \n",
       "454187            0        0        5       0                en   \n",
       "591093            0        0       15       0                en   \n",
       "945693            0        0        0       0                ru   \n",
       "\n",
       "        production_companies                  production_countries   \n",
       "624486                   NaN                       France, Ukraine  \\\n",
       "1034042                  NaN                               Ukraine   \n",
       "454187                   NaN                               Ukraine   \n",
       "591093                   NaN  Netherlands, Ukraine, United Kingdom   \n",
       "945693            Star Media                       Russia, Ukraine   \n",
       "\n",
       "           spoken_languages  release_year  \n",
       "624486            Ukrainian        2024.0  \n",
       "1034042           Ukrainian        2021.0  \n",
       "454187   English, Ukrainian        2020.0  \n",
       "591093            Ukrainian        2023.0  \n",
       "945693              Russian        2013.0  "
      ]
     },
     "execution_count": 52,
     "metadata": {},
     "output_type": "execute_result"
    }
   ],
   "source": [
    "produced_in_ukraine = df_filtered[df_filtered['production_countries'].astype(str).str.contains('Ukraine', na=False)].copy()\n",
    "produced_in_ukraine.sample(5)"
   ]
  },
  {
   "cell_type": "markdown",
   "id": "23f6e6fe-97d3-4ebe-8cfc-28e88eaab80e",
   "metadata": {},
   "source": [
    "__(d) Порахуйте кількість фільмів, які були вироблені за участю України (використайте створену змінну).__"
   ]
  },
  {
   "cell_type": "code",
   "execution_count": 53,
   "id": "cc48afa3-b0bc-419b-88c8-d27d0cdfc656",
   "metadata": {},
   "outputs": [
    {
     "name": "stdout",
     "output_type": "stream",
     "text": [
      "Кількість фільмів, вироблених за участю України: 2236\n"
     ]
    }
   ],
   "source": [
    "count_produced_in_ukraine = len(produced_in_ukraine)\n",
    "print(f\"Кількість фільмів, вироблених за участю України: {count_produced_in_ukraine}\")"
   ]
  },
  {
   "cell_type": "markdown",
   "id": "ea203b56-b9ff-4761-8c0f-a17c1e1e7c3e",
   "metadata": {},
   "source": [
    "__(e) Використовуючи першу змінну з блоку `2.3` порахуйте кількість фільмів, що мають українську мову оригіналу та були вироблені виключно в Україні.__"
   ]
  },
  {
   "cell_type": "code",
   "execution_count": 54,
   "id": "19b0f29f-c2d5-4310-9a27-43880b454ae1",
   "metadata": {},
   "outputs": [
    {
     "name": "stdout",
     "output_type": "stream",
     "text": [
      "Кількість фільмів з українською мовою оригіналу та вироблених лише в Україні: 1301\n"
     ]
    }
   ],
   "source": [
    "ukrainian_original_and_only_ukraine = ukrainian_original_language[ukrainian_original_language['production_countries'].astype(str) == 'Ukraine'].copy()\n",
    "count_ukrainian_original_and_only_ukraine = len(ukrainian_original_and_only_ukraine)\n",
    "print(f\"Кількість фільмів з українською мовою оригіналу та вироблених лише в Україні: {count_ukrainian_original_and_only_ukraine}\")"
   ]
  },
  {
   "cell_type": "markdown",
   "id": "bc906d5e-2c8e-44d9-9073-1bd6c93195b6",
   "metadata": {},
   "source": [
    "__(f) Використовуючи другу змінну з блоку `2.3` порахуйте частку фільмів, які були вироблені виключно в Україні у відношенні до фільмів, у виробництві яких Україна приймала участь.__"
   ]
  },
  {
   "cell_type": "code",
   "execution_count": 55,
   "id": "271f6d8f-0100-4506-afcd-30ace40860d2",
   "metadata": {},
   "outputs": [
    {
     "name": "stdout",
     "output_type": "stream",
     "text": [
      "Частка фільмів, вироблених лише в Україні серед фільмів за участю України: 0.76\n"
     ]
    }
   ],
   "source": [
    "produced_only_in_ukraine = df_filtered[df_filtered['production_countries'].astype(str) == 'Ukraine'].copy()\n",
    "count_produced_only_in_ukraine = len(produced_only_in_ukraine)\n",
    "\n",
    "proportion_only_ukraine = count_produced_only_in_ukraine / count_produced_in_ukraine if count_produced_in_ukraine > 0 else 0\n",
    "print(f\"Частка фільмів, вироблених лише в Україні серед фільмів за участю України: {proportion_only_ukraine:.2f}\")"
   ]
  },
  {
   "cell_type": "markdown",
   "id": "061464cb-8673-481f-b364-bda1dc1ebbb5",
   "metadata": {},
   "source": [
    "__(g) Виведіть назви та збори усіх фільмів, мова оригіналу котрих є українською, та які зібрали більше $1 млн. (`revenue` більше за 1000000), використовуючи першу змінну з блоку `2.3`.__"
   ]
  },
  {
   "cell_type": "code",
   "execution_count": 56,
   "id": "f98c8549-3175-4378-b333-3296812c494b",
   "metadata": {},
   "outputs": [
    {
     "name": "stdout",
     "output_type": "stream",
     "text": [
      "Фільми з українською мовою оригіналу та зборами більше $1 млн.:\n",
      "Назва: Mavka: The Forest Song, Збори: $16858557\n",
      "Назва: The Stronghold, Збори: $2745966\n",
      "Назва: The Stolen Princess, Збори: $6914017\n"
     ]
    }
   ],
   "source": [
    "ukrainian_high_revenue = ukrainian_original_language[ukrainian_original_language['revenue'] > 1000000]\n",
    "print(\"Фільми з українською мовою оригіналу та зборами більше $1 млн.:\")\n",
    "for index, row in ukrainian_high_revenue.iterrows():\n",
    "    print(f\"Назва: {row['title']}, Збори: ${row['revenue']}\")"
   ]
  },
  {
   "cell_type": "markdown",
   "id": "e0fa735a-5dbe-4459-a1b9-3e8dea4531e8",
   "metadata": {},
   "source": [
    "### 2.4 Дослідження років випуску"
   ]
  },
  {
   "cell_type": "markdown",
   "id": "a61e1af6-9aa6-45e5-a03b-985ea609dcaa",
   "metadata": {},
   "source": [
    "__(a) Порахуйте кількість фільмів, які були вироблені у 2000 році (поле `release_date` дорівнює `2000`).__"
   ]
  },
  {
   "cell_type": "code",
   "execution_count": 57,
   "id": "d9483f4a-4b38-4388-94b5-08e1798b4f6e",
   "metadata": {},
   "outputs": [
    {
     "name": "stdout",
     "output_type": "stream",
     "text": [
      "Кількість фільмів, вироблених у 2000 році: 7296\n"
     ]
    }
   ],
   "source": [
    "films_in_2000 = df_filtered[df_filtered['release_year'] == 2000]\n",
    "count_films_2000 = len(films_in_2000)\n",
    "print(f\"Кількість фільмів, вироблених у 2000 році: {count_films_2000}\")"
   ]
  },
  {
   "cell_type": "markdown",
   "id": "187636cb-3a23-4c48-82b9-b40c8694bcc0",
   "metadata": {},
   "source": [
    "__(b) Порахуйте кількість фільмів, які були вироблені у період з 2000 по 2023 роки (спробуйте це зробити без використання додаткових змінних).__"
   ]
  },
  {
   "cell_type": "code",
   "execution_count": 58,
   "id": "2d71ae8a-d734-4004-9d83-12457c279338",
   "metadata": {},
   "outputs": [
    {
     "name": "stdout",
     "output_type": "stream",
     "text": [
      "Кількість фільмів, вироблених у період з 2000 по 2023 роки: 476289\n"
     ]
    }
   ],
   "source": [
    "films_2000_to_2023 = df_filtered[(df_filtered['release_year'] >= 2000) & (df_filtered['release_year'] <= 2023)]\n",
    "count_films_2000_to_2023 = len(films_2000_to_2023)\n",
    "print(f\"Кількість фільмів, вироблених у період з 2000 по 2023 роки: {count_films_2000_to_2023}\")"
   ]
  },
  {
   "cell_type": "markdown",
   "id": "c888d90b-7463-4de7-aa06-c06846043288",
   "metadata": {},
   "source": [
    "__(c) Перевірте чи у 2020 році було вироблено більше фільмів, ніж у 2019.__"
   ]
  },
  {
   "cell_type": "code",
   "execution_count": 59,
   "id": "c186c147-bdd2-4283-a0ed-933f9e9fe5d1",
   "metadata": {},
   "outputs": [
    {
     "name": "stdout",
     "output_type": "stream",
     "text": [
      "У 2019 році було вироблено більше фільмів, ніж у 2020.\n"
     ]
    }
   ],
   "source": [
    "films_2020 = df_filtered[df_filtered['release_year'] == 2020]\n",
    "count_films_2020 = len(films_2020)\n",
    "\n",
    "films_2019 = df_filtered[df_filtered['release_year'] == 2019]\n",
    "count_films_2019 = len(films_2019)\n",
    "\n",
    "if count_films_2020 > count_films_2019:\n",
    "    print(\"У 2020 році було вироблено більше фільмів, ніж у 2019.\")\n",
    "elif count_films_2020 < count_films_2019:\n",
    "    print(\"У 2019 році було вироблено більше фільмів, ніж у 2020.\")\n",
    "else:\n",
    "    print(\"Кількість фільмів, вироблених у 2019 та 2020 роках, однакова.\")"
   ]
  },
  {
   "cell_type": "markdown",
   "id": "b2e4b47c-14af-4409-bcee-047a03491e65",
   "metadata": {},
   "source": [
    "__(d) Виведіть назви, прибутковість та бюджети 5-ти найприбутковіших (використовуйте поле `revenue`) фільмів 2021 року.__"
   ]
  },
  {
   "cell_type": "code",
   "execution_count": 60,
   "id": "c09d9c08-8b5d-4398-9ba6-171709ceae0c",
   "metadata": {},
   "outputs": [
    {
     "name": "stdout",
     "output_type": "stream",
     "text": [
      "Топ-5 найприбутковіших фільмів 2021 року:\n",
      "Назва: Spider-Man: No Way Home, Прибутковість: $1921847111, Бюджет: $200000000\n",
      "Назва: The Battle at Lake Changjin, Прибутковість: $902540935, Бюджет: $200000000\n",
      "Назва: Hi, Mom, Прибутковість: $822049668, Бюджет: $59000000\n",
      "Назва: No Time to Die, Прибутковість: $774153007, Бюджет: $250000000\n",
      "Назва: F9, Прибутковість: $726229501, Бюджет: $200000000\n"
     ]
    }
   ],
   "source": [
    "films_2021 = df_filtered[df_filtered['release_year'] == 2021].copy()\n",
    "top_5_revenue_2021 = films_2021.sort_values(by='revenue', ascending=False).head(5)\n",
    "\n",
    "print(\"Топ-5 найприбутковіших фільмів 2021 року:\")\n",
    "for index, row in top_5_revenue_2021.iterrows():\n",
    "    print(f\"Назва: {row['title']}, Прибутковість: ${row['revenue']}, Бюджет: ${row['budget']}\")"
   ]
  },
  {
   "cell_type": "markdown",
   "id": "b2b95fee-becc-4e30-8118-edf65e613018",
   "metadata": {},
   "source": [
    "__(e) Визначте топ-5 найбільш розповсюджених мов оригіналу серед усіх фільмів.__"
   ]
  },
  {
   "cell_type": "code",
   "execution_count": 61,
   "id": "4b96e771-1cd6-435f-ac64-3d5c2397c9d3",
   "metadata": {},
   "outputs": [
    {
     "name": "stdout",
     "output_type": "stream",
     "text": [
      "Топ-5 найбільш розповсюджених мов оригіналу:\n",
      "original_language\n",
      "en    388461\n",
      "fr     49779\n",
      "es     44300\n",
      "de     39592\n",
      "ja     36703\n",
      "Name: count, dtype: int64\n"
     ]
    }
   ],
   "source": [
    "top_5_languages = df_filtered['original_language'].value_counts().nlargest(5)\n",
    "print(\"Топ-5 найбільш розповсюджених мов оригіналу:\")\n",
    "print(top_5_languages)"
   ]
  },
  {
   "cell_type": "markdown",
   "id": "3af1e493-65fe-4c52-979c-e8f22aded39e",
   "metadata": {},
   "source": [
    "### 2.5 Дослідження тривалості фільму та оцінок"
   ]
  },
  {
   "cell_type": "markdown",
   "id": "1e7f1b89-6b2a-44bc-8756-16cd4436d146",
   "metadata": {},
   "source": [
    "__(a) Відфільтруйте фільми, які мають більше 1000 голосів (поле `vote_count` більше `1000`) та запишіть їх у нову змінну.__"
   ]
  },
  {
   "cell_type": "code",
   "execution_count": 62,
   "id": "028931c1-e00c-4ff3-ba13-2c2858fd79e2",
   "metadata": {},
   "outputs": [
    {
     "name": "stdout",
     "output_type": "stream",
     "text": [
      "Кількість фільмів з кількістю голосів більше 1000: 3937\n"
     ]
    }
   ],
   "source": [
    "films_over_1000_votes = df_filtered[df_filtered['vote_count'] > 1000].copy()\n",
    "print(f\"Кількість фільмів з кількістю голосів більше 1000: {len(films_over_1000_votes)}\")"
   ]
  },
  {
   "cell_type": "markdown",
   "id": "36d712da-558e-47b2-9bff-4e90541eabdb",
   "metadata": {},
   "source": [
    "__(b) Наведіть назви та тривалість пʼяти найтриваліших фільмів, які мають більше 1000 голосів (використовуйте створену змінну).__"
   ]
  },
  {
   "cell_type": "code",
   "execution_count": 63,
   "id": "eed446f8-d762-417a-8418-4e7f0c765ab5",
   "metadata": {},
   "outputs": [
    {
     "name": "stdout",
     "output_type": "stream",
     "text": [
      "Топ-5 найтриваліших фільмів з кількістю голосів більше 1000:\n",
      "Назва: Zack Snyder's Justice League, Тривалість: 242 хвилин\n",
      "Назва: Gone with the Wind, Тривалість: 238 хвилин\n",
      "Назва: Once Upon a Time in America, Тривалість: 229 хвилин\n",
      "Назва: Lawrence of Arabia, Тривалість: 228 хвилин\n",
      "Назва: Ben-Hur, Тривалість: 222 хвилин\n"
     ]
    }
   ],
   "source": [
    "top_5_longest_over_1000_votes = films_over_1000_votes.sort_values(by='runtime', ascending=False).head(5)\n",
    "\n",
    "print(\"Топ-5 найтриваліших фільмів з кількістю голосів більше 1000:\")\n",
    "for index, row in top_5_longest_over_1000_votes.iterrows():\n",
    "    print(f\"Назва: {row['title']}, Тривалість: {row['runtime']} хвилин\")"
   ]
  },
  {
   "cell_type": "markdown",
   "id": "b889fa8c-58c0-4205-8ffe-c24a11ca2109",
   "metadata": {},
   "source": [
    "__(с) Порахуйте середню оцінку фільмів, які є у топ-10 за кількістю голосів (використовувати створену змінну не обовʼязково).__"
   ]
  },
  {
   "cell_type": "code",
   "execution_count": 64,
   "id": "7a9c69ce-1684-4f56-b96b-df2e329f3163",
   "metadata": {},
   "outputs": [
    {
     "name": "stdout",
     "output_type": "stream",
     "text": [
      "Середня оцінка топ-10 фільмів за кількістю голосів: 8.13\n"
     ]
    }
   ],
   "source": [
    "top_10_by_votes = df_filtered.sort_values(by='vote_count', ascending=False).head(10)\n",
    "average_vote_top_10_votes = top_10_by_votes['vote_average'].mean()\n",
    "print(f\"Середня оцінка топ-10 фільмів за кількістю голосів: {average_vote_top_10_votes:.2f}\")"
   ]
  },
  {
   "cell_type": "markdown",
   "id": "10d89a85-13a1-4207-9a2b-1ec1c83f1a8b",
   "metadata": {},
   "source": [
    "### 2.6 Дослідження кіновиробничих компаній"
   ]
  },
  {
   "cell_type": "markdown",
   "id": "ff411640-4d92-436b-afe6-2ca94c79ed55",
   "metadata": {},
   "source": [
    "__(a) Відфільтруйте фільми кіностудії `DC Comics` які мають кількість оцінок більше 100 та запишіть їх у нову змінну.__"
   ]
  },
  {
   "cell_type": "code",
   "execution_count": 65,
   "id": "82a57b1f-6f90-4ebb-80d3-77372aa44ed6",
   "metadata": {},
   "outputs": [
    {
     "name": "stdout",
     "output_type": "stream",
     "text": [
      "Кількість фільмів DC Comics з кількістю голосів більше 100: 79\n"
     ]
    }
   ],
   "source": [
    "dc_comics_over_100_votes = df_filtered[(df_filtered['production_companies'].astype(str).str.contains('DC Comics', na=False)) & (df_filtered['vote_count'] > 100)].copy()\n",
    "print(f\"Кількість фільмів DC Comics з кількістю голосів більше 100: {len(dc_comics_over_100_votes)}\")"
   ]
  },
  {
   "cell_type": "markdown",
   "id": "67b27ca8-fce6-4c12-9f56-d54762940dc8",
   "metadata": {},
   "source": [
    "__(b) Виконайте аналогічні дії для фільмів кіностудії `Marvel Studios` та запишіть їх у нову змінну.__"
   ]
  },
  {
   "cell_type": "code",
   "execution_count": 67,
   "id": "07a39935-e629-4c49-bfc9-966309ff591b",
   "metadata": {},
   "outputs": [
    {
     "name": "stdout",
     "output_type": "stream",
     "text": [
      "Кількість фільмів Marvel Studios з кількістю голосів більше 100: 51\n"
     ]
    }
   ],
   "source": [
    "marvel_studios_over_100_votes = df_filtered[(df_filtered['production_companies'].astype(str).str.contains('Marvel Studios', na=False)) & (df_filtered['vote_count'] > 100)].copy()\n",
    "print(f\"Кількість фільмів Marvel Studios з кількістю голосів більше 100: {len(marvel_studios_over_100_votes)}\")"
   ]
  },
  {
   "cell_type": "markdown",
   "id": "df2e6bb7-1a2b-4c1a-9f47-199a6d4a9066",
   "metadata": {},
   "source": [
    "__(c) Створіть DataFrame, який показує для кожної з двох кіностудій кількість фільмів, базуючись на змінних, отриманих під час виконання завдання `2.6`, та запишіть його у нову змінну.__\n",
    "\n",
    "__Стовпець із назвами кіностудій назвіть `studio`, а стовпець з кількістю фільмів - `total_films`.__"
   ]
  },
  {
   "cell_type": "code",
   "execution_count": 68,
   "id": "1de3f28e-cd32-432a-8d71-eb7ee3f73b1a",
   "metadata": {},
   "outputs": [
    {
     "name": "stdout",
     "output_type": "stream",
     "text": [
      "           studio  total_films\n",
      "0       DC Comics           79\n",
      "1  Marvel Studios           51\n"
     ]
    }
   ],
   "source": [
    "studio_counts = pd.DataFrame({\n",
    "    'studio': ['DC Comics', 'Marvel Studios'],\n",
    "    'total_films': [len(dc_comics_over_100_votes), len(marvel_studios_over_100_votes)]\n",
    "})\n",
    "print(studio_counts)"
   ]
  },
  {
   "cell_type": "markdown",
   "id": "ef7b995d-6ffc-4fd3-b10f-ccb3db681094",
   "metadata": {},
   "source": [
    "__(d) Порахуйте середню оцінку фільмів для кожної кіностудії окремо та запишіть ці значення у стовпчик створеного DataFrame під назвою `average_vote`.__"
   ]
  },
  {
   "cell_type": "code",
   "execution_count": 69,
   "id": "69b92a3b-de89-4107-a9bd-c37702fe6b76",
   "metadata": {},
   "outputs": [
    {
     "name": "stdout",
     "output_type": "stream",
     "text": [
      "           studio  total_films  average_vote\n",
      "0       DC Comics           79      6.788684\n",
      "1  Marvel Studios           51      7.096588\n"
     ]
    }
   ],
   "source": [
    "dc_avg_vote = dc_comics_over_100_votes['vote_average'].mean()\n",
    "marvel_avg_vote = marvel_studios_over_100_votes['vote_average'].mean()\n",
    "\n",
    "studio_counts['average_vote'] = [dc_avg_vote, marvel_avg_vote]\n",
    "print(studio_counts)"
   ]
  },
  {
   "cell_type": "markdown",
   "id": "6424e95e-301e-4d80-9624-1a2f80110011",
   "metadata": {},
   "source": [
    "### 2.7 Додаткові завдання (*)\n",
    "\n",
    "__Виконання ціх завдань необовʼязкове, проте вони є чудовим інструментом для тестування отриманих навичок.__"
   ]
  },
  {
   "cell_type": "markdown",
   "id": "feb4ebda-204c-4248-84c8-604bb2a6f1e4",
   "metadata": {},
   "source": [
    "__(a*) Порахуйте кількість фільмів, у виробництві котрих Україна участі не приймала, але які мають Українську мову (поле `spoken_lanugages` містить рядок `Ukrainian`) та були вироблені починаючи з 2000 року.__"
   ]
  },
  {
   "cell_type": "code",
   "execution_count": 75,
   "id": "84ffb61e-fe13-49e1-8a34-90e4f4a2bf35",
   "metadata": {},
   "outputs": [
    {
     "name": "stdout",
     "output_type": "stream",
     "text": [
      "Кількість фільмів, не вироблених в Україні, але з українською мовою (з 2000 року): 217\n"
     ]
    }
   ],
   "source": [
    "ukrainian_spoken_not_produced = df_filtered[\n",
    "    (df_filtered['production_countries'].notna()) &\n",
    "    (df_filtered['spoken_languages'].astype(str).str.contains('Ukrainian', na=False)) &\n",
    "    (~df_filtered['production_countries'].astype(str).str.contains('Ukraine', na=False)) &\n",
    "    (df_filtered['release_year'] >= 2000)\n",
    "].copy()\n",
    "count_ukrainian_spoken_not_produced = len(ukrainian_spoken_not_produced)\n",
    "print(f\"Кількість фільмів, не вироблених в Україні, але з українською мовою (з 2000 року): {count_ukrainian_spoken_not_produced}\")"
   ]
  },
  {
   "cell_type": "markdown",
   "id": "9f55dba7-bc42-4f08-a983-d33809c4b5e2",
   "metadata": {},
   "source": [
    "__(b*) За допомогою методу `.plot()` з бібліотеки `matplotlib` побудуйте графік, який відображає кількість фільмів для кожного року у проміжку з 1900 р.  по 2023 р. включно.__"
   ]
  },
  {
   "cell_type": "code",
   "execution_count": 71,
   "id": "59c816ec-def4-4475-a6d6-9c97d7dc1a5e",
   "metadata": {},
   "outputs": [
    {
     "data": {
      "image/png": "[encoded data removed]",
      "text/plain": [
       "<Figure size 1080x432 with 1 Axes>"
      ]
     },
     "metadata": {
      "needs_background": "light"
     },
     "output_type": "display_data"
    }
   ],
   "source": [
    "import matplotlib.pyplot as plt\n",
    "\n",
    "films_by_year = df_filtered['release_year'].value_counts().sort_index()\n",
    "films_by_year_range = films_by_year[(films_by_year.index >= 1900) & (films_by_year.index <= 2023)]\n",
    "\n",
    "plt.figure(figsize=(15, 6))\n",
    "plt.plot(films_by_year_range.index, films_by_year_range.values, marker='o', linestyle='-')\n",
    "plt.title('Кількість фільмів за роком випуску (1900-2023)')\n",
    "plt.xlabel('Рік')\n",
    "plt.ylabel('Кількість фільмів')\n",
    "plt.grid(True)\n",
    "plt.xticks(films_by_year_range.index[::5].tolist() + [films_by_year_range.index[-1]]) # Показуємо кожен 5-й рік на осі X та останній рік\n",
    "plt.tight_layout()\n",
    "plt.show()"
   ]
  }
 ],
 "metadata": {
  "kernelspec": {
   "display_name": "Python 3 (ipykernel)",
   "language": "python",
   "name": "python3"
  },
  "language_info": {
   "codemirror_mode": {
    "name": "ipython",
    "version": 3
   },
   "file_extension": ".py",
   "mimetype": "text/x-python",
   "name": "python",
   "nbconvert_exporter": "python",
   "pygments_lexer": "ipython3",
   "version": "3.10.13"
  }
 },
 "nbformat": 4,
 "nbformat_minor": 5
}
