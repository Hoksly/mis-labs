{
 "cells": [
  {
   "cell_type": "markdown",
   "id": "3643bd64-ab91-4ce0-99d6-3dbb4265a09b",
   "metadata": {},
   "source": [
    "# Лабораторна робота №3: Регресія та оцінки її точності"
   ]
  },
  {
   "cell_type": "code",
   "execution_count": 1,
   "id": "f2810485-865c-4632-b529-0253ad3319c9",
   "metadata": {},
   "outputs": [],
   "source": [
    "import pandas as pd\n",
    "import matplotlib.pyplot as plt\n",
    "import numpy as np"
   ]
  },
  {
   "cell_type": "code",
   "execution_count": 2,
   "id": "bb8481bd-5544-44cf-8665-69ab8e3fc1fe",
   "metadata": {},
   "outputs": [],
   "source": [
    "from sklearn.linear_model import SGDRegressor\n",
    "from sklearn.metrics import r2_score, mean_absolute_error"
   ]
  },
  {
   "cell_type": "markdown",
   "id": "469aa6f9-4da4-430e-b815-ee4161ceaf24",
   "metadata": {},
   "source": [
    "### 1. Завантажте датасет `data.csv` та візуалізуйте дані за допомогою діаграми розсіювання\n",
    "\n",
    "На діаграмі розсіювання через велику кількість значень точки можуть \"зливатись\", тому можете використовувати атрибут методу `.scatter(..., s=0.5)`, який відповідає за маштабування точок на діаграмі."
   ]
  },
  {
   "cell_type": "code",
   "execution_count": 3,
   "id": "ee2ac9a4-1326-466d-bedf-a08b07741a17",
   "metadata": {},
   "outputs": [
    {
     "name": "stdout",
     "output_type": "stream",
     "text": [
      "      x           y\n",
      "0  24.0  164.648356\n",
      "1  50.0  242.393389\n",
      "2  15.0  151.655969\n",
      "3  38.0  209.759194\n",
      "4  87.0  361.866952\n"
     ]
    },
    {
     "data": {
      "image/png": "[encoded data removed]",
      "text/plain": [
       "<Figure size 432x288 with 1 Axes>"
      ]
     },
     "metadata": {
      "needs_background": "light"
     },
     "output_type": "display_data"
    }
   ],
   "source": [
    "data = pd.read_csv('data.csv')\n",
    "print(data.head())\n",
    "\n",
    "plt.scatter(data['x'], data['y'], s=0.5)\n",
    "plt.xlabel('x')\n",
    "plt.ylabel('y')\n",
    "plt.title('Діаграма розсіювання (початкові дані)')\n",
    "plt.show()\n",
    "\n"
   ]
  },
  {
   "cell_type": "markdown",
   "id": "c5cdd0c7-8c79-4a9c-a94b-d951a186dc38",
   "metadata": {},
   "source": [
    "### 2. Нормалізуйте значення $x$ та $y$ з датасету, використовуючи стандартизовану оцінку\n",
    "\n",
    "[Стандартизована оцінка](https://uk.wikipedia.org/wiki/Стандартизована_оцінка) розраховується за наступною формулою: $ z = \\frac{x - \\mu}{\\sigma} $, де $\\mu$ - [середнє значення](https://uk.wikipedia.org/wiki/Середнє_значення) вибірки, а $\\sigma$ - [стандартне відхилення](https://uk.wikipedia.org/wiki/Стандартне_відхилення).\n",
    "\n",
    "Візуалізуйте нормалізовані дані."
   ]
  },
  {
   "cell_type": "code",
   "execution_count": null,
   "id": "c031e3ca-bb0f-4dd5-a9c3-4e4e81232654",
   "metadata": {},
   "outputs": [],
   "source": []
  },
  {
   "cell_type": "markdown",
   "id": "387e49c2-269e-482e-a36f-e7cd6c292d02",
   "metadata": {},
   "source": [
    "### 3. Розбийте датасет на вибірки для тренування та тестування"
   ]
  },
  {
   "cell_type": "code",
   "execution_count": null,
   "id": "70988e73-6755-4ddb-a144-f9a13548f74f",
   "metadata": {},
   "outputs": [],
   "source": []
  },
  {
   "cell_type": "markdown",
   "id": "88e9b897-b69f-4ff4-9746-480937a377b7",
   "metadata": {},
   "source": [
    "### 4. Реалізуйте алгоритм лінійної регресії, який використовує градієнтний спуск для мінімізації функції втрат\n",
    "\n",
    "**Модель:** $ f_{\\beta_{0},\\beta_{1}}(x) = \\beta_{0} + \\beta_{1} * x $\n",
    "\n",
    "**Функція витрат:** $J(\\beta_{0},\\beta_{1}) = \\frac{1}{2m} \\sum_{i=1}^{m}(f_{\\beta_{0},\\beta_{1}}(x^{(i)})-y^{(i)})^2 $\n",
    "\n",
    "**Алгоритм градієнтного спуску:**\n",
    "\n",
    "$\\text{виконувати, доки } J(\\beta_{0},\\beta_{1}) \\text{ не мінімізується \\{}$\n",
    "\n",
    "$\\qquad\\beta_{0} = \\beta_{0} - \\alpha \\frac{\\partial}{\\partial\\beta_{0}}J(\\beta_{0},\\beta_{1})$\n",
    "\n",
    "$\\qquad\\beta_{1} = \\beta_{1} - \\alpha \\frac{\\partial}{\\partial\\beta_{1}}J(\\beta_{0},\\beta_{1})$\n",
    "\n",
    "$\\text{\\}}$\n",
    "\n",
    "**Де похідні:**\n",
    "\n",
    "$\\frac{\\partial}{\\partial\\beta_{0}}J(\\beta_{0},\\beta_{1}) = \\frac{1}{m}\\sum_{i=1}^{m}(f_{\\beta_{0},\\beta_{1}}(x^{(i)})-y^{(i)}) $\n",
    "\n",
    "$\\frac{\\partial}{\\partial\\beta_{1}}J(\\beta_{0},\\beta_{1}) = \\frac{1}{m}\\sum_{i=1}^{m}(f_{\\beta_{0},\\beta_{1}}(x^{(i)})-y^{(i)})*x^{(i)} $\n",
    "\n",
    "У метод градієнтного спуску додайте зберігання значення функції витрат для кожного його кроку.\n",
    "\n",
    "Для більш детального ознайомлення із алгоритмом лінійної регресії та градієнтного спуску можете звернутись до відео `#9` - `#20` зі [списку відтворення на YouTube каналу deeplearning.ai](https://www.youtube.com/playlist?list=PLkDaE6sCZn6FNC6YRfRQc_FbeQrF8BwGI). Тема лінійної регресії розкривається у відео `#9` - `#14`, а градієнтного спуску у відео `#15` - `#20`."
   ]
  },
  {
   "cell_type": "code",
   "execution_count": null,
   "id": "5f966502-bcc7-48ef-bea2-f03c0b9d04a0",
   "metadata": {},
   "outputs": [],
   "source": []
  },
  {
   "cell_type": "markdown",
   "id": "12b2f17d-2d74-4b4a-9328-24b42e8a838f",
   "metadata": {},
   "source": [
    "### 5. Візуалізуйте мінімізацію функції витрат $J(\\beta_{0},\\beta_{1})$"
   ]
  },
  {
   "cell_type": "code",
   "execution_count": null,
   "id": "8919d5fd-b240-4028-a768-7808d34fc498",
   "metadata": {},
   "outputs": [],
   "source": []
  },
  {
   "cell_type": "markdown",
   "id": "158e2bf0-b403-429d-8c64-0e413e670c83",
   "metadata": {},
   "source": [
    "### 6. Візуалізуйте дані з датасету та пряму регресії на одній діаграмі\n",
    "\n",
    "Для відображення даних з датасетів тренування та тестування використовуйте різні кольори."
   ]
  },
  {
   "cell_type": "code",
   "execution_count": null,
   "id": "487a29b9-6ada-488a-bf4c-38c87162b834",
   "metadata": {},
   "outputs": [],
   "source": []
  },
  {
   "cell_type": "markdown",
   "id": "87327f55-7a76-475b-820c-99f1312602f7",
   "metadata": {},
   "source": [
    "### 7. Скористайтесь алгоритмом стохастичного градієнтного спуску з бібліотеки `sklearn` для отримання аналогічних параметів\n",
    "\n",
    "Тепер за допомогою класу `SGDRegressor` з бібліотеки `sklearn` побудуйте аналогічну модель. Для тренування використовуйте ті самі дані, які ми використовували для алгоритму лінійної регресії.\n",
    "\n",
    "Відобразіть датасет та пряму регресії з отриманої моделі."
   ]
  },
  {
   "cell_type": "code",
   "execution_count": null,
   "id": "d5aeead8-40b4-4fa2-83af-d037d0866fdc",
   "metadata": {},
   "outputs": [],
   "source": []
  },
  {
   "cell_type": "markdown",
   "id": "a7404a68-8bb4-4bfd-a682-f62777cb4155",
   "metadata": {},
   "source": [
    "### 8. Порівняйте значення $\\beta_0$ та $\\beta_1$ які Ви отримали в результаті роботи Вашого алгоритму, та алгоритму з бібліотеки `sklearn`"
   ]
  },
  {
   "cell_type": "code",
   "execution_count": null,
   "id": "4a1a7dae-ea83-47e4-a725-28c583855e57",
   "metadata": {},
   "outputs": [],
   "source": []
  },
  {
   "cell_type": "markdown",
   "id": "1ff95e7e-d2c8-4602-8ae2-80780a65ddda",
   "metadata": {},
   "source": [
    "### 9. Зробіть порівняння метрик $R^2$ та `MAE` для Вашого алгоритму та для алгоритму з бібліотеки `sklearn`\n",
    "\n",
    "Для підрахунку метрик $R^2$ та `MAE` скористайтесь вибіркою з датасету _для тестування_.\n",
    "\n",
    "$R^2$ - [коефіцієнт детермінації](https://uk.wikipedia.org/wiki/Коефіцієнт_детермінації), метод [`r2_score`](https://scikit-learn.org/stable/modules/generated/sklearn.metrics.r2_score.html) з бібліотки `sklearn`.\n",
    "\n",
    "`MAE` - [середня абсолютна похибка](https://en.wikipedia.org/wiki/Mean_absolute_error), метод [`mean_absolute_error`](https://scikit-learn.org/stable/modules/generated/sklearn.metrics.mean_absolute_error.html) з бібліотки `sklearn`."
   ]
  },
  {
   "cell_type": "code",
   "execution_count": null,
   "id": "d74d4b15-e8fd-4bc9-8a17-f0ed12ab5bcd",
   "metadata": {},
   "outputs": [],
   "source": []
  }
 ],
 "metadata": {
  "kernelspec": {
   "display_name": "Python 3 (ipykernel)",
   "language": "python",
   "name": "python3"
  },
  "language_info": {
   "codemirror_mode": {
    "name": "ipython",
    "version": 3
   },
   "file_extension": ".py",
   "mimetype": "text/x-python",
   "name": "python",
   "nbconvert_exporter": "python",
   "pygments_lexer": "ipython3",
   "version": "3.10.13"
  }
 },
 "nbformat": 4,
 "nbformat_minor": 5
}
